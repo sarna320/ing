{
 "cells": [
  {
   "cell_type": "markdown",
   "metadata": {},
   "source": [
    "# Zadanie rekrutacyjne 4 - Wycena instrumentów\n",
    "\n",
    "## Opis zadania\n",
    "\n",
    "Twoim zadaniem jest obliczenie wartości bieżącej netto (NPV) i podstawowej miary ryzyka stóp procentowych (BPV) dla transakcji walutowego swapu stopy procentowej (CIRS) według stanu na dzień 17 lutego 2023.\n",
    "\n",
    "Dane wejściowe do zadania zostały przekazane w formie plików CSV i obejmują:\n",
    "- `transakcje.csv` - stylizowane parametry transakcji do wyceny,\n",
    "- `krzywa_forward_EUR.csv` - stylizowana krzywa forward dla waluty EUR wyliczona na 17 lutego 2023,\n",
    "- `krzywa_forward_PLN.csv` - stylizowana krzywa forward dla waluty PLN wyliczona na 17 lutego 2023,\n",
    "- `krzywa_discount_EUR.csv` - stylizowana krzywa dyskontowa dla waluty EUR wyliczona na 17 lutego 2023,\n",
    "- `krzywa_discount_PLN.csv` - stylizowana krzywa dyskontowa dla waluty PLN wyliczona na 17 lutego 2023,\n",
    "\n",
    "Twoim zadaniem jest wykonanie obliczeń zgodnie z algorytmem opisanym poniżej. Jako wynik otrzymasz wartości NPV i BPV, osobne dla każdej nogi każdej transakcji. Zapoznaj się z opisem wszystkich obliczeń, a następnie przygotuj kod pozwalający rozwiązać zadanie.\n",
    "\n",
    "Wykonując obliczenia przyjmij następujące konwencje długości roku:\n",
    "- dla waluty PLN: ACT/ACT - do obliczeń przyjmuje się rzeczywisty czas pomiędzy wydarzeniami i rzeczywistą długość roku,\n",
    "- dla waluty EUR: 30/360 - na cele obliczeń rok składa się z 12 miesięcy, z których każdy liczy 30 dni."
   ]
  },
  {
   "cell_type": "markdown",
   "metadata": {},
   "source": [
    "## Zależności\n",
    "\n",
    "Zaimportuj pakiety, które będą Ci potrzebne w czasie rozwiązywania zadania."
   ]
  },
  {
   "cell_type": "code",
   "execution_count": null,
   "metadata": {},
   "outputs": [],
   "source": [
    "# tu wpisz rozwiązanie\n"
   ]
  },
  {
   "cell_type": "markdown",
   "metadata": {},
   "source": [
    "## Import danych\n",
    "\n",
    "Zaimportuj dane wejściowe z plików dostarczonych wraz z zadaniem. Opis zawartości każdego z pliku znajdziesz powyżej.\n",
    "\n",
    "Krzywe wyceny mają formę:\n",
    "|krzywa|tenor|data konstrukcji krzywej|data zapadalności|stopa zerokuponowa|czynnik dyskontowy|\n",
    "|---|---|---|---|---|---|\n",
    "\n",
    "Transakcje są dostarczone w formie tabeli:\n",
    "|nr transakcji|data wyceny|strona transkcji|waluta|nominał|krzywa forwardowa|krzywa dyskontowa|daty płatności|okres odsetkowy|oprocentowanie w pierwszym okresie|data zapadalności|\n",
    "|---|---|---|---|---|---|---|---|---|---|---|\n",
    "\n",
    "Każda z transakcji obejmuje dwie nogi, każda w innej walucie i wyceniana w oparciu o zmienną stopę oprocentowania, odpowiadające stronie sprzedającej (S) i kupującej (B) transakcji. Zgodnie z konwencją, __dla strony kupującej przepływy pieniężne mają wartość ujemną, a dla strony sprzedającej - wartość dodatnią__.\n",
    "\n",
    "\n",
    "Dla każdej transakcji, w kolumnie \"daty płatności\" znajduje się lista dni, w których kończą się poszczególne okresy odsetkowe transakcji. __Przyjmij, że data zakończenia okresu jest jednocześnie datą rozpoczęcia kolejnego__. Wraz z końcem ostatniego okresu odsetkowego, następuje również wypłata nominału transakcji. W wycenie instrumentu uwzględniane są jedynie przyszłe przepływy pieniężne, dlatego istotne są jedynie daty wypłat następujące po dacie wyceny.\n",
    "\n",
    "\n",
    "Na podstawie tabeli transakcji __przygotuj harmonogram płatności__ zawierający daty rozpoczęcia i zakończenia poszczególnych okresów odsetkowych, który wykorzystasz w toku dalszych obliczeń."
   ]
  },
  {
   "cell_type": "code",
   "execution_count": null,
   "metadata": {},
   "outputs": [],
   "source": [
    "# tu wpisz rozwiązanie"
   ]
  },
  {
   "cell_type": "markdown",
   "metadata": {},
   "source": [
    "## Obliczenie czynników dyskontowych\n",
    "\n",
    "Czynnik dyskontowy $DF_{t_{0}, t_{1}}$ dla okresu pomiędzy datami $t_{0}$ a $t_{1}$ jest funkcją wykładniczą stopy zerokuponowej na ten sam okres ($ZC_{t_{0}, t_{1}}$) przeskalowanej przez frakcję roku YF, dla której jest liczony.\n",
    "$$\n",
    "DF_{t_{0}, t_{1}} = e^{-ZC_{t_{0}, t_{1}}\\cdot YF} \\tag{1}\n",
    "$$ (label:1)\n",
    "\n",
    "Frakcja roku to długość okresu $\\Delta_{i}$ pomiędzy datami $t_{0}$ a $t_{1}$ ($\\Delta_{t_{0}, t_{1}} = t_{1} - t_{0}$) podzielona przez przyjętą długość roku Y:\n",
    "$$\n",
    "YF_{t_{0}, t_{1}} = \\frac{\\Delta_{t_{0}, t_{1}}}{Y} \\tag{2}\n",
    "$$\n",
    "\n",
    "Użyte w obliczeniach __wartości $\\Delta_{i}$ oraz $Y$ będą zależały od konwencji dlugości roku obowiązującej dla danej waluty, określonej we wstępie do ćwiczenia__.\n",
    "\n",
    "Krzywa dyskontowa zawiera wartości stopy zerokuponowej i obliczone czynniki dyskontowe dla wybranych dat (tenorów). Jeżeli tenor pokrywa się z datą wypłaty dla wybranej transakcji, wartości współczynników dyskontowych można odczytać bezpośrednio z krzywej. W pozostałych przypadkach, dla daty t wypadającej pomiędzy datami zapadalności $T_{0}$ i $T_{1}$ uwzględnionymi na krzywej wyceny, należy dokonać __interpolacji liniowej__ wartości stopy zerokuponowej:\n",
    "$$\n",
    "ZC_{T} = ZC_{T_{0}} + (ZC_{T_{1}} - ZC_{T_{0}}) \\cdot \\frac{t - T_{0}}{T_{1} - T_{0}} \\tag{3}\n",
    "$$\n",
    "\n",
    "i podstawić otrzymaną wartość do równania (1), aby obliczyć czynnik dyskontowy.\n",
    "\n",
    "\n"
   ]
  },
  {
   "cell_type": "markdown",
   "metadata": {},
   "source": [
    "Dla podanych transakcji, należy obliczyć wartości czynników dyskontowych dla dat podanych w kolumnie `daty płatności` w poniższy sposób:\n",
    "1. Na odpowiedniej dla danej waluty __krzywej dyskontowej__ znajdź tenory, pomiędzy którymi wypada wybrana data płatności (lub z którymi się pokrywa).\n",
    "2. Wyznacz stopę zerokuponową dla daty wypłaty przy użyciu równania (3).\n",
    "3. Podstaw otrzymaną wartość do równania (1) podstawiając jako datę końca okresu wybraną datę płatności, a jako datę początku okresu - datę wyceny.\n",
    "\n",
    "__Pamiętaj, że wartości stopy zeroprocentowej w tabeli są podane w %__."
   ]
  },
  {
   "cell_type": "code",
   "execution_count": null,
   "metadata": {},
   "outputs": [],
   "source": [
    "# tu wpisz rozwiązanie"
   ]
  },
  {
   "cell_type": "markdown",
   "metadata": {},
   "source": [
    "## Obliczenie stóp procentowych\n",
    "\n",
    "Stopa procentowa jest określana wraz z rozpoczęciem każdego okresu odsetkowego. \n",
    "Dla biegnącego okresu, stopa procentowa jest podana dla każdej nogi transakcji w kolumnie `oprocentowanie w pierwszym okresie`.\n",
    "Dla okresów przyszłych, należy ją wyznaczyć na podstawie krzywych forward na dzień rozpoczęcia okresu\n",
    "\n",
    "Krzywa forward podaje wartości stóp zerokuponowych i czynników dyskontowych na konkretne daty. Pomiędzy tymi datami, wartości należy wyznaczyć przez interpolację. \n",
    "Do wyceny instrumentów, wykorzystaj __interpolację liniową__, zgodnie z równaniami (1) i (3). Aby obliczyć stopy oprocentowania dla przyszłych okresów odsetkowych, wykonaj ponoiższe obliczenia:\n",
    "\n",
    "1. Dla pierwszego (biegnącego) okresu odsetkowego, stopa oprocentowania jest znana i podana w kolumnie `oprocentowanie w pierwszym okresie` w danych wejściowych.\n",
    "Dla pozostałych okresów:\n",
    "2. Zgodnie z metodologią przestawioną w poprzednim punkcie, na podstawie odpowiedniej dla danej waluty __krzywej forwardowej__ wyznacz czynniki dyskontowe $DF_{start}$ dla okresu pomiędzy __datą wyceny__ a __datą rozpoczęcia__ każdego okresu odsetkowego. __Nie możesz tego wykonać dla biegnącego okresu odsetkowego, którego data rozpoczęcia wypada przed datą wyceny (bądącą równocześnie datą konstrukcji krzywej wyceny)__.\n",
    "3. Analogicznie, na podstawie __krzywej forwardowej__ wyznacz czynniki dyskontowe $DF_{end}$ dla okresu pomiędzy __datą wyceny__ a __datą zakończenia__ każdego okresu odsetkowego.\n",
    "4. Dla każdego okresu odsetkowego zaczynającego się w $t_{start}$ i kończącego w $t_{end}$, oblicz interpolowaną stopę oprocentowania $r_{t_{start}, t_{end}}$ na podstawie wyznaczonych współczynników dyskontowych:\n",
    "$$\n",
    "r_{t_{start}, t_{end}} = (\\frac{DF_{start}}{DF_{end}} - 1) \\cdot YF_{t_{start}, t_{end}} \\cdot 100\\% \\tag{4}\n",
    "$$\n",
    "\n",
    "__Pamiętaj, że wartości stopy zeroprocentowej w tabeli są podane w %__.\n",
    "\n",
    "\n",
    "\n"
   ]
  },
  {
   "cell_type": "code",
   "execution_count": null,
   "metadata": {},
   "outputs": [],
   "source": [
    "# tu wpisz rozwiązanie"
   ]
  },
  {
   "cell_type": "markdown",
   "metadata": {},
   "source": [
    "## Obliczenie przepływów pieniężnych\n",
    "\n",
    "Dla każdego okresu odsetkowego zaczynającego się w $t_{0}$ i kończącego w $t_{1}$, przepływ pieniężny CF jest równy nominałowi nogi transakcji przemnożonemu przez stopę procentową dla danego okresu i frakcję roku odpowiadającą jego długości. \n",
    "\n",
    "Kierunek przepływu (znak otrzymanej wartości) zależy od strony transakcji. Jest to uwzględnione przez współczynnik $s_{B/S}$.\n",
    "$$\n",
    "CF_{t{0}, t_{1}} = s_{B/S} \\cdot N \\cdot r_{t_{0}, t_{1}} \\cdot YF_{t_{0}, t_{1}} \\tag{5}\n",
    "$$.\n",
    "\n",
    "Wykonaj obliczenia przepływów pieniężnych przyjmując, że nominał nie ulega amortyzacji - jego wartość jest taka sama przez cały okres trwania umowy."
   ]
  },
  {
   "cell_type": "code",
   "execution_count": null,
   "metadata": {},
   "outputs": [],
   "source": [
    "# tu wpisz rozwiązanie\n"
   ]
  },
  {
   "cell_type": "markdown",
   "metadata": {},
   "source": [
    "## Obliczenie NPV\n",
    "\n",
    "Wartość bieżąda netto (NPV) transakcji CIRS na dzień wyceny ($t_{pricing}$) to suma przepływów pieniężnych pomnożonych przez czynnik dyskontowy obliczony na dzień ich wypłaty ($DF_{T_{CF}}$). Dodatkowo, w raz z wypłatą ostatniego przepływu odsetkowego w dniu zakończenia transakcji ($t_{last}$), następuje wypłata nominału $N$, którego zdyskontowana (na tę datę) wartość jest uwzględniona w wycenie. Ostatecznie, wzór na NPV przyjmuje postać:\n",
    "\n",
    "$$\n",
    "NPV = s_{B/S} \\cdot N \\cdot DF_{t_{pricing}, t_{last}} + \\sum_{t_{CF, 1}}^{t_{last}}  CF_{t_{CF}} \\cdot DF_{t_{pricing}, t_{CF}} \\tag{6}\n",
    "$$\n",
    "\n",
    "Wykonaj odpowiednie obliczenia dla każdej z nóg obydwu transakcji."
   ]
  },
  {
   "cell_type": "code",
   "execution_count": null,
   "metadata": {},
   "outputs": [],
   "source": [
    "# tu wpisz rozwiązanie"
   ]
  },
  {
   "cell_type": "markdown",
   "metadata": {},
   "source": [
    "## Obliczenie BPV\n",
    "\n",
    "Aby obliczyć podstawową miarę ryzyka stóp procentowych dla transakcji (BPV), przygotuj przesunięte krzywe wyceny __podnosząc wartości stopy zerokuponowej na każdej krzywej dyskontowej i forwardowej o 1 punkt bazowy ($1 bp = 0.01\\%$)__. Na podstawie tak wyznaczonej stopy zerokuponowej, przelicz dla krzywej __współczyynnik dyskontowy zgodnie z równaniem (1)__. Pozostawiająć __pozostałe wartości niezmienione, powtórz wszystkie kroki oblieczeń opisane powyżej z użyciem przesuniętych krzywych__.  Otrzymasz w ten sposób wartość $NPV_{+1bp}$.\n",
    "\n",
    "Miarę ryzyka BPV obliczysz, odejmując od otrzymanej wartości wcześniej obliczone NPV transakcji.\n",
    "\n",
    "$$\n",
    "BPV = NPV_{+1bp}-NPV \\tag{7}\n",
    "$$\n",
    "\n",
    "Wykonaj odpowiednie obliczenia."
   ]
  },
  {
   "cell_type": "code",
   "execution_count": null,
   "metadata": {},
   "outputs": [],
   "source": [
    "# tu wpisz rozwiązanie"
   ]
  },
  {
   "cell_type": "markdown",
   "metadata": {},
   "source": [
    "## Wyeksportuj wyniki\n",
    "\n",
    "Jako wynik zadania, wyeksportuj do plików CSV:\n",
    "- wyniki obliczeń w formie tabeli zawierającą zestawione wartości NPV i BPV dla każdej nogi każdej z transakcji,\n",
    "- harmonogramy dla każdej nogi każdej transakcji, zawierające:\n",
    "    - datę rozpoczęcia okresu odsetkowego,\n",
    "    - datę zakończenia okresu odsetkowego,\n",
    "    - stopę oprocentowania dla danego okresu,\n",
    "    - czynnik dyskontowy na koniec okresu,\n",
    "    - przepływ pieniężny dla danego okresu.\n",
    "\n",
    "W pakiecie podsumowującym zadanie, prześlij:\n",
    "- otrzymane dane wejściowe,\n",
    "- plik Jupyter Notebook zawierający kod rozwiązania zadania oraz wyniki obliczeń,\n",
    "- wyeksportowane pliki wynikowe.\n",
    "\n",
    "__Pamiętaj, aby skonstruować tabele i nazwać pliki tak, aby było jasne, której transakcji dotyczy.__"
   ]
  },
  {
   "cell_type": "code",
   "execution_count": null,
   "metadata": {},
   "outputs": [],
   "source": [
    "# tu wpisz rozwiązanie"
   ]
  }
 ],
 "metadata": {
  "kernelspec": {
   "display_name": "AI_3",
   "language": "python",
   "name": "python3"
  },
  "language_info": {
   "codemirror_mode": {
    "name": "ipython",
    "version": 3
   },
   "file_extension": ".py",
   "mimetype": "text/x-python",
   "name": "python",
   "nbconvert_exporter": "python",
   "pygments_lexer": "ipython3",
   "version": "3.9.7"
  }
 },
 "nbformat": 4,
 "nbformat_minor": 2
}

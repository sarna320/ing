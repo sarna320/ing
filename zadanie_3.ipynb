{
 "cells": [
  {
   "cell_type": "markdown",
   "metadata": {},
   "source": [
    "# Zadanie rekrutacyjne 3 - Regresja logistyczna\n",
    "\n",
    "Twoim zadaniem jest opracowanie __modelu regresji logistycznej__.\n",
    "\n",
    "## Analiza danych\n",
    "\n",
    "Przeanalizuj dane dostarczone w pliku `dane_zadanie_v1.0.xlsx`. \n",
    "\n",
    "Czy na ich podstawie zdecydujesz się opracować model regresji logistycznej? Uzasadnij odpowiedź.\n",
    "\n",
    "Jeśli decydujesz się opracować model napisz także:\n",
    "- Czy mimo wszystko masz jakieś wątpliwości? \n",
    "- Czy brakuje Ci informacji, które mogłyby w Twojej ocenie pomóc?"
   ]
  },
  {
   "cell_type": "code",
   "execution_count": null,
   "metadata": {},
   "outputs": [],
   "source": [
    "# analiza danych"
   ]
  },
  {
   "cell_type": "markdown",
   "metadata": {},
   "source": [
    "Tutaj wpisz i uzasadnij decyzję dotyczącą opracowania modelu."
   ]
  },
  {
   "cell_type": "markdown",
   "metadata": {},
   "source": [
    "## Opracowanie modelu\n",
    "\n",
    "Jeżeli nie zdecydujesz się opracować modelu, pozostaw tę sekcję pustą.\n",
    "\n",
    "Jeśli decydujesz się opracować model, zamodeluj  `Target` w oparciu o zmienne `Zm1`-`Zm5` (zauważ, że `Zm3_a/b/c` są komponentami zmiennej `Zm3`). \n",
    "\n",
    "Możesz dokonywać standardowych przekształceń zmiennych `Zm` aby poprawić jakość działania modelu. \n",
    "\n",
    "Przedstaw i krótko opisz kolejne kroki modelowania.\n",
    "\n",
    "Oceń jakość otrzymanego modelu."
   ]
  },
  {
   "cell_type": "code",
   "execution_count": null,
   "metadata": {},
   "outputs": [],
   "source": [
    "# tu wpisz rozwiązanie"
   ]
  }
 ],
 "metadata": {
  "language_info": {
   "name": "python"
  }
 },
 "nbformat": 4,
 "nbformat_minor": 2
}

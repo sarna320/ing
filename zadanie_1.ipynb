{
 "cells": [
  {
   "cell_type": "markdown",
   "metadata": {},
   "source": [
    "# Zadanie rekrutacyjne 1 - Programowanie w Pythonie\n",
    "\n",
    "Poniżej znajdziesz zestaw zadań pozwalających zaprezentować umiejętności tworzenia kodu w języku Python. Pod każdym zadaniem, w dedykowanej komórce wpisz kod pozwalający uzyskać opisany efekt.\n",
    "\n",
    "Utwórz listę (`list`), która zawiera co najmniej 25 losowo wybranych liczb z zakresu [0, 100] (włącznie) i jednocześnie:\n",
    "- jeżeli suma elementów listy wynosi więcej niż 300, liczba 1/3 musi wystąpić na liście co najmniej dwukrotnie,\n",
    "- w przeciwnym wypadku, liczba 1/3 ma wystąpić na liście co najmniej 4 razy.\n",
    "\n",
    "Utworzoną listę zapisz w zmiennej o wybranej nazwie."
   ]
  },
  {
   "cell_type": "code",
   "execution_count": 56,
   "metadata": {},
   "outputs": [
    {
     "name": "stdout",
     "output_type": "stream",
     "text": [
      "[8, 75, 82, 26, 22, 83, 100, 66, 52, 51, 9, 25, 84, 16, 33, 77, 34, 90, 28, 68, 76, 50, 35, 58, 33]\n"
     ]
    }
   ],
   "source": [
    "# tu wpisz rozwiązanie"
   ]
  },
  {
   "cell_type": "markdown",
   "metadata": {},
   "source": [
    "Na 3 sposoby usuń wszystkie wartości 1/3 z utworzonej listy. W swoich rozwiązaniach wykorzystaj __wszystkie__ spośród poniższych konstrukcji:\n",
    "- bez użycia pętli,\n",
    "- używając pętli for,\n",
    "- używając metody append dla listy,\n",
    "- używając funkcji `lambda`,\n",
    "- używając stworzonej funkcji własnej (`def`)."
   ]
  },
  {
   "cell_type": "code",
   "execution_count": 40,
   "metadata": {},
   "outputs": [
    {
     "name": "stdout",
     "output_type": "stream",
     "text": [
      "[39, 94, 19, 3, 24, 86, 27, 77, 79, 82, 13, 10, 89, 80, 41, 63, 18, 6, 88, 81, 1, 36, 34]\n"
     ]
    }
   ],
   "source": [
    "# tu wpisz podejście 1"
   ]
  },
  {
   "cell_type": "code",
   "execution_count": 42,
   "metadata": {},
   "outputs": [
    {
     "name": "stdout",
     "output_type": "stream",
     "text": [
      "[67, 3, 60, 90, 57, 95, 78, 21, 61, 4, 53, 70, 32, 72, 46, 0, 19, 75, 30, 74, 37, 99, 18, 33]\n"
     ]
    }
   ],
   "source": [
    "# tu wpisz podejście 2"
   ]
  },
  {
   "cell_type": "code",
   "execution_count": 36,
   "metadata": {},
   "outputs": [
    {
     "name": "stdout",
     "output_type": "stream",
     "text": [
      "[0, 80, 83, 43, 46, 31, 74, 61, 12, 57, 60, 41, 79, 64, 70, 22, 77, 21, 8, 3, 85, 100, 27]\n"
     ]
    }
   ],
   "source": [
    "# tu wpisz podejście 3"
   ]
  },
  {
   "cell_type": "markdown",
   "metadata": {},
   "source": [
    "Utwórz klasę `FantastycznaLista` reprezentującą listę utworzoną powyżej i zawierającą dwie metody:\n",
    "- `print_dict` -> wypisuje listę jako słownik (`dictionary`) gdzie `keys` to kolejne liczby naturalne, a `values` to nasza oryginalna lista,\n",
    "- `add_list` -> zwraca listę, której kolejne elementy powstają jako suma `keys`+`values` z poprzedniego punktu."
   ]
  },
  {
   "cell_type": "code",
   "execution_count": null,
   "metadata": {},
   "outputs": [],
   "source": [
    "# tu wpisz rozwiązanie"
   ]
  }
 ],
 "metadata": {
  "kernelspec": {
   "display_name": "AI_3",
   "language": "python",
   "name": "python3"
  },
  "language_info": {
   "codemirror_mode": {
    "name": "ipython",
    "version": 3
   },
   "file_extension": ".py",
   "mimetype": "text/x-python",
   "name": "python",
   "nbconvert_exporter": "python",
   "pygments_lexer": "ipython3",
   "version": "3.10.12"
  }
 },
 "nbformat": 4,
 "nbformat_minor": 2
}

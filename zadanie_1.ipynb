{
 "cells": [
  {
   "cell_type": "markdown",
   "metadata": {},
   "source": [
    "# Zadanie rekrutacyjne 1 - Programowanie w Pythonie\n",
    "\n",
    "Poniżej znajdziesz zestaw zadań pozwalających zaprezentować umiejętności tworzenia kodu w języku Python. Pod każdym zadaniem, w dedykowanej komórce wpisz kod pozwalający uzyskać opisany efekt.\n",
    "\n",
    "Utwórz listę (`list`), która zawiera co najmniej 25 losowo wybranych liczb z zakresu [0, 100] (włącznie) i jednocześnie:\n",
    "- jeżeli suma elementów listy wynosi więcej niż 300, liczba 1/3 musi wystąpić na liście co najmniej dwukrotnie,\n",
    "- w przeciwnym wypadku, liczba 1/3 ma wystąpić na liście co najmniej 4 razy.\n",
    "\n",
    "Utworzoną listę zapisz w zmiennej o wybranej nazwie."
   ]
  },
  {
   "cell_type": "code",
   "execution_count": 6,
   "metadata": {},
   "outputs": [
    {
     "name": "stdout",
     "output_type": "stream",
     "text": [
      "[71.93665744847017, 75.47247530034757, 28.33040062341213, 0.6705600160695213, 80.13319104888096, 78.4161791700005, 19.823172236610564, 93.1571681462586, 85.95490278373201, 93.74759970043621, 42.55283729591716, 28.382602454506735, 44.2093330894681, 72.6702920937323, 68.22701901483201, 55.344827619665104, 97.85615331169974, 2.819556757800301, 4.207131468334269, 13.242878759710418, 69.62788274855593, 14.08252186710377, 13.121830627697983, 33.37434027915997, 12.261068856770773, 0.3333333333333333, 0.3333333333333333]\n"
     ]
    }
   ],
   "source": [
    "import random\n",
    "\n",
    "def gen_rng():\n",
    "    random_numbers = [random.random()*100 for _ in range(25)]\n",
    "\n",
    "    sum_of_numbers = sum(random_numbers)\n",
    "\n",
    "    if sum_of_numbers > 300:\n",
    "        while random_numbers.count(1/3) < 2:\n",
    "            random_numbers.append(1/3)\n",
    "            random_numbers.pop\n",
    "    else:\n",
    "        while random_numbers.count(1/3) < 4:\n",
    "            random_numbers.append(1/3)\n",
    "            random_numbers.pop\n",
    "    return random_numbers\n",
    "\n",
    "print(gen_rng())"
   ]
  },
  {
   "cell_type": "markdown",
   "metadata": {},
   "source": [
    "Na 3 sposoby usuń wszystkie wartości 1/3 z utworzonej listy. W swoich rozwiązaniach wykorzystaj __wszystkie__ spośród poniższych konstrukcji:\n",
    "- bez użycia pętli,\n",
    "- używając pętli for,\n",
    "- używając metody append dla listy,\n",
    "- używając funkcji `lambda`,\n",
    "- używając stworzonej funkcji własnej (`def`)."
   ]
  },
  {
   "cell_type": "code",
   "execution_count": 7,
   "metadata": {},
   "outputs": [
    {
     "name": "stdout",
     "output_type": "stream",
     "text": [
      "[70.37735936270101, 70.81822236585047, 74.0421258892728, 69.17594171629473, 87.54381309178477, 37.53005474499188, 29.219752706517177, 50.462711070054986, 17.290339772494722, 83.77476623081401, 94.07631915671196, 97.27441313925786, 84.63627053619051, 22.78120671113011, 35.28559104542066, 67.75207662423117, 7.338463674596573, 92.22126813583306, 69.40277665926202, 32.48644329788875, 27.597952801510374, 38.47651545294936, 15.054650359169441, 28.894830937841785, 12.206287572516084]\n"
     ]
    }
   ],
   "source": [
    "random_numbers = gen_rng()\n",
    "random_numbers = list(filter(lambda x: x != 1/3, random_numbers))\n",
    "print(random_numbers)"
   ]
  },
  {
   "cell_type": "code",
   "execution_count": 8,
   "metadata": {},
   "outputs": [
    {
     "name": "stdout",
     "output_type": "stream",
     "text": [
      "[98.90525898991253, 13.953657490370396, 91.439909515604, 67.91478522661758, 70.31545124037658, 34.45056603419283, 71.84052884996481, 20.21876441655197, 65.0410817716945, 90.94935016341388, 88.82848830510808, 16.189085849306238, 78.43514021321475, 52.979097606269555, 12.628984794953324, 98.49932723252813, 10.076999629390482, 6.321621932596521, 45.78381070060896, 41.619829267986866, 39.26990713501074, 84.57336311577663, 93.44406941932075, 25.70301820335952, 83.05026828323598, 0.3333333333333333]\n"
     ]
    }
   ],
   "source": [
    "random_numbers = gen_rng()\n",
    "for num in random_numbers:  \n",
    "    if num == 1/3:\n",
    "        random_numbers.remove(num)\n",
    "print(random_numbers)\n"
   ]
  },
  {
   "cell_type": "code",
   "execution_count": 9,
   "metadata": {},
   "outputs": [
    {
     "name": "stdout",
     "output_type": "stream",
     "text": [
      "[66.06658938344239, 11.929693845671563, 45.55010951747317, 34.88037616580263, 80.89952076124368, 46.738852614557004, 52.06639747946533, 21.055794396412086, 71.71720151551908, 85.43396508767506, 75.54096976393787, 22.241158090355594, 92.81231156224085, 34.429667414563966, 57.76531608902309, 35.555650804943994, 70.30710804952288, 85.25401940591551, 73.90749048438533, 96.96750767710263, 35.036351315063655, 61.11208345967124, 97.72747249725222, 59.50628609716105, 91.5493314825244]\n"
     ]
    }
   ],
   "source": [
    "random_numbers = gen_rng()\n",
    "new_list = []\n",
    "[new_list.append(num) for num in random_numbers if num != 1/3]\n",
    "random_numbers = new_list\n",
    "print(random_numbers)"
   ]
  },
  {
   "cell_type": "markdown",
   "metadata": {},
   "source": [
    "Utwórz klasę `FantastycznaLista` reprezentującą listę utworzoną powyżej i zawierającą dwie metody:\n",
    "- `print_dict` -> wypisuje listę jako słownik (`dictionary`) gdzie `keys` to kolejne liczby naturalne, a `values` to nasza oryginalna lista,\n",
    "- `add_list` -> zwraca listę, której kolejne elementy powstają jako suma `keys`+`values` z poprzedniego punktu."
   ]
  },
  {
   "cell_type": "code",
   "execution_count": 10,
   "metadata": {},
   "outputs": [
    {
     "name": "stdout",
     "output_type": "stream",
     "text": [
      "{1: 98.59238684594312, 2: 19.714390693541795, 3: 51.96048595437522, 4: 15.31703712618655, 5: 19.23980605464375, 6: 50.70467812295188, 7: 54.25223701282101, 8: 58.4326544577168, 9: 12.148693060909876, 10: 3.7281683414236655, 11: 91.53135946469622, 12: 48.010125706971905, 13: 67.0179813868385, 14: 17.884699627857536, 15: 61.09802064593772, 16: 51.64044377022996, 17: 82.58632318850867, 18: 50.14151339209696, 19: 50.84228486917124, 20: 8.805008724080976, 21: 11.382319299716192, 22: 37.54286898084589, 23: 51.58921332862079, 24: 65.65856686447653, 25: 33.73296645065004, 26: 0.3333333333333333, 27: 0.3333333333333333}\n",
      "[99.59238684594312, 21.714390693541795, 54.96048595437522, 19.31703712618655, 24.23980605464375, 56.70467812295188, 61.25223701282101, 66.43265445771681, 21.148693060909878, 13.728168341423665, 102.53135946469622, 60.010125706971905, 80.0179813868385, 31.884699627857536, 76.09802064593772, 67.64044377022995, 99.58632318850867, 68.14151339209695, 69.84228486917124, 28.805008724080977, 32.382319299716194, 59.54286898084589, 74.58921332862079, 89.65856686447653, 58.73296645065004, 26.333333333333332, 27.333333333333332]\n"
     ]
    }
   ],
   "source": [
    "class FantastycznaLista:\n",
    "    def __init__(self):\n",
    "        self.random_numbers = self.generate_list()\n",
    "\n",
    "    def generate_list(self):\n",
    "        random_numbers = [random.random()*100 for _ in range(25)]\n",
    "        sum_of_numbers = sum(random_numbers)\n",
    "        \n",
    "        if sum_of_numbers > 300:\n",
    "            while random_numbers.count(1/3) < 2:\n",
    "                random_numbers.append(1/3)\n",
    "        else:\n",
    "            while random_numbers.count(1/3) < 4:\n",
    "                random_numbers.append(1/3)\n",
    "        \n",
    "        return random_numbers\n",
    "\n",
    "    def print_dict(self):\n",
    "        result_dict = {i+1: self.random_numbers[i] for i in range(len(self.random_numbers))}\n",
    "        print(result_dict)\n",
    "\n",
    "    def add_list(self):\n",
    "        result_list = [i+1 + self.random_numbers[i] for i in range(len(self.random_numbers))]\n",
    "        return result_list\n",
    "\n",
    "fantastic_list = FantastycznaLista()\n",
    "fantastic_list.print_dict()\n",
    "print(fantastic_list.add_list())"
   ]
  }
 ],
 "metadata": {
  "kernelspec": {
   "display_name": "AI_3",
   "language": "python",
   "name": "python3"
  },
  "language_info": {
   "codemirror_mode": {
    "name": "ipython",
    "version": 3
   },
   "file_extension": ".py",
   "mimetype": "text/x-python",
   "name": "python",
   "nbconvert_exporter": "python",
   "pygments_lexer": "ipython3",
   "version": "3.10.12"
  }
 },
 "nbformat": 4,
 "nbformat_minor": 2
}

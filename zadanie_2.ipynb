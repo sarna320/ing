{
 "cells": [
  {
   "cell_type": "markdown",
   "metadata": {},
   "source": [
    "# Zadanie rekrutacyjne 2 - Weryfikacja poprawności numeru konta bankowego\n",
    "\n",
    "Napisz program, który sprawdzi, czy podany numer konta bankowego jest poprawny.\n",
    "\n",
    "Program powinien zwrócić odpowiedź czy dany numer konta jest poprawny (`TAK`), czy niepoprawny (`NIE`). Weryfikacja opiera się o poniższe zasady (wszystkie musza być spełnione łącznie aby numer przeszedł weryfikację):\n",
    "- numer konta składa się wyłącznie z cyfr (0-9),\n",
    "- numer konta nie może zaczynać się i kończyć cyfrą 0,\n",
    "- numer konta musi składać sie dokładnie z 20 cyfr,\n",
    "- numer konta może być dodatkowo zapisany w grupach wg schematu XXXXX-XXXXX-XXXXX-XXXXX (tj 5 cyfr + separator); jako separator w danym numerze konta może być użyty jedynie myślnik (-) lub plus (+), inne (lub ich kombinacje) nie są akceptowane,\n",
    "- numer konta nie może zawierać cyfry 0 więcej niż 3 razy,\n",
    "- numer konta nie może zawierać tej samej cyfry wiecej niż 3 razy pod rząd.\n",
    "\n",
    "__Uwaga:__ Rozwiązanie NIE może opierać sie o wyrażenia regularne.\n",
    "\n",
    "Przetestuj gotowe rozwiązanie pokazując, jak i na jakich przypadkach było testowane."
   ]
  },
  {
   "cell_type": "code",
   "execution_count": null,
   "metadata": {},
   "outputs": [],
   "source": [
    "# tu wpisz rozwiązanie"
   ]
  }
 ],
 "metadata": {
  "language_info": {
   "name": "python"
  }
 },
 "nbformat": 4,
 "nbformat_minor": 2
}

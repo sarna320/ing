{
 "cells": [
  {
   "cell_type": "markdown",
   "metadata": {},
   "source": [
    "# Zadanie rekrutacyjne 2 - Weryfikacja poprawności numeru konta bankowego\n",
    "\n",
    "Napisz program, który sprawdzi, czy podany numer konta bankowego jest poprawny.\n",
    "\n",
    "Program powinien zwrócić odpowiedź czy dany numer konta jest poprawny (`TAK`), czy niepoprawny (`NIE`). Weryfikacja opiera się o poniższe zasady (wszystkie musza być spełnione łącznie aby numer przeszedł weryfikację):\n",
    "- numer konta składa się wyłącznie z cyfr (0-9),\n",
    "- numer konta nie może zaczynać się i kończyć cyfrą 0,\n",
    "- numer konta musi składać sie dokładnie z 20 cyfr,\n",
    "- numer konta może być dodatkowo zapisany w grupach wg schematu XXXXX-XXXXX-XXXXX-XXXXX (tj 5 cyfr + separator); jako separator w danym numerze konta może być użyty jedynie myślnik (-) lub plus (+), inne (lub ich kombinacje) nie są akceptowane,\n",
    "- numer konta nie może zawierać cyfry 0 więcej niż 3 razy,\n",
    "- numer konta nie może zawierać tej samej cyfry wiecej niż 3 razy pod rząd.\n",
    "\n",
    "__Uwaga:__ Rozwiązanie NIE może opierać sie o wyrażenia regularne.\n",
    "\n",
    "Przetestuj gotowe rozwiązanie pokazując, jak i na jakich przypadkach było testowane."
   ]
  },
  {
   "cell_type": "code",
   "execution_count": 2,
   "metadata": {},
   "outputs": [
    {
     "name": "stdout",
     "output_type": "stream",
     "text": [
      "Account number: 12345-67890-12345-67890 -> Valid: NIE\n",
      "Account number: 12345678901234567890 -> Valid: NIE\n",
      "Account number: 02345678901234567890 -> Valid: NIE\n",
      "Account number: 12345678901234567890 -> Valid: NIE\n",
      "Account number: 12345067890123456789 -> Valid: TAK\n",
      "Account number: 123456789012345678901 -> Valid: NIE\n",
      "Account number: 12345-67890-12345-678901 -> Valid: NIE\n",
      "Account number: 1234-56789-01234-56789 -> Valid: NIE\n",
      "Account number: 11112345678901234567 -> Valid: NIE\n",
      "Account number: 123+45678+90123+45678 -> Valid: NIE\n",
      "Account number: 12345-67890+12345-67890 -> Valid: NIE\n"
     ]
    }
   ],
   "source": [
    "def is_valid_account_number(account_number: str) -> str:\n",
    "    account_number = account_number.replace(\"-\", \"\").replace(\"+\", \"\")\n",
    "\n",
    "    if not account_number.isdigit():\n",
    "        return \"NIE\"\n",
    "\n",
    "    if len(account_number) != 20:\n",
    "        return \"NIE\"\n",
    "\n",
    "    if account_number[0] == '0' or account_number[-1] == '0':\n",
    "        return \"NIE\"\n",
    "\n",
    "    if account_number.count('0') > 3:\n",
    "        return \"NIE\"\n",
    "\n",
    "    for i in range(len(account_number) - 3):\n",
    "        if account_number[i] == account_number[i+1] == account_number[i+2] == account_number[i+3]:\n",
    "            return \"NIE\"\n",
    "\n",
    "    return \"TAK\"\n",
    "\n",
    "test_cases = [\n",
    "    \"12345-67890-12345-67890\",  # Valid account number\n",
    "    \"12345678901234567890\",     # Valid account number\n",
    "    \"02345678901234567890\",     # Starts with 0\n",
    "    \"12345678901234567890\",     # Ends with 0\n",
    "    \"12345067890123456789\",     # More than 3 zeros\n",
    "    \"123456789012345678901\",    # More than 20 digits\n",
    "    \"12345-67890-12345-678901\", # Valid format with separator but more than 20 digits\n",
    "    \"1234-56789-01234-56789\",   # Valid format with wrong separator (no dash at 5th position)\n",
    "    \"11112345678901234567\",     # Repeating more than 3 times consecutively\n",
    "    \"123+45678+90123+45678\",    # Valid with plus separator\n",
    "    \"12345-67890+12345-67890\",  # Mixed valid separators\n",
    "]\n",
    "\n",
    "for case in test_cases:\n",
    "    print(f\"Account number: {case} -> Valid: {is_valid_account_number(case)}\")\n"
   ]
  }
 ],
 "metadata": {
  "kernelspec": {
   "display_name": "Python 3",
   "language": "python",
   "name": "python3"
  },
  "language_info": {
   "codemirror_mode": {
    "name": "ipython",
    "version": 3
   },
   "file_extension": ".py",
   "mimetype": "text/x-python",
   "name": "python",
   "nbconvert_exporter": "python",
   "pygments_lexer": "ipython3",
   "version": "3.10.12"
  }
 },
 "nbformat": 4,
 "nbformat_minor": 2
}
